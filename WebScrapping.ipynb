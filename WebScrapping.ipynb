{
 "cells": [
  {
   "cell_type": "code",
   "execution_count": 1,
   "id": "3a934beb-ac84-48b7-a9bc-d1d239574e5d",
   "metadata": {},
   "outputs": [],
   "source": [
    "# Importing Selenium and Pandas"
   ]
  },
  {
   "cell_type": "code",
   "execution_count": 2,
   "id": "bedc0577-02af-4ea3-982b-cffa04934de5",
   "metadata": {},
   "outputs": [],
   "source": [
    "from selenium import webdriver\n",
    "from selenium.webdriver.chrome.options import Options\n",
    "from selenium.webdriver.support.ui import WebDriverWait\n",
    "from selenium.webdriver.support import expected_conditions as EC\n",
    "from selenium.webdriver.common.by import By\n",
    "from selenium.webdriver.common.action_chains import ActionChains\n",
    "from selenium.webdriver.common.keys import Keys\n",
    "import pandas as pd"
   ]
  },
  {
   "cell_type": "code",
   "execution_count": null,
   "id": "c8286e4d-7f15-4584-bea2-b4f1c74e9d1c",
   "metadata": {},
   "outputs": [],
   "source": [
    "# Set up Chrome options for headless mode\n",
    "chrome_options = Options()\n",
    "chrome_options.add_argument(\"--headless\")\n",
    "chrome_options.add_argument(\"--no-sandbox\")\n",
    "chrome_options.add_argument(\"--disable-dev-shm-usage\")\n",
    "\n",
    "# Connect to Selenium running in another container\n",
    "driver = webdriver.Remote(\n",
    "    command_executor=\"http://172.17.0.2:4444\",\n",
    "    options=chrome_options  \n",
    ")"
   ]
  },
  {
   "cell_type": "code",
   "execution_count": 4,
   "id": "b4caf60d-f956-42f5-a0bf-76fa5a51da21",
   "metadata": {},
   "outputs": [],
   "source": [
    "# Check if it works with https://mate.academy\n",
    "url = \"https://mate.academy\"\n",
    "driver.get(url)"
   ]
  },
  {
   "cell_type": "code",
   "execution_count": 5,
   "id": "102a3499-5f9a-4539-bbb9-4d8009e72be2",
   "metadata": {},
   "outputs": [
    {
     "name": "stdout",
     "output_type": "stream",
     "text": [
      "Безкоштовні IT курси до працевлаштування. Навчись програмувати онлайн | Mate academy\n"
     ]
    }
   ],
   "source": [
    "print(driver.title)"
   ]
  },
  {
   "cell_type": "code",
   "execution_count": null,
   "id": "fae8d86e-d0a5-4af4-9190-93b51320e702",
   "metadata": {
    "scrolled": true
   },
   "outputs": [],
   "source": [
    "# Get courses' names and links to pages\n",
    "try:\n",
    "    courses_button = driver.find_element(By.XPATH, \"//button[@data-qa='header-courses-dropdown-button']\")\n",
    "    courses_button.click()\n",
    "except Exception as e:\n",
    "    print(\"Error clicking courses button:\", e)\n",
    "\n",
    "# Scrape course titles and hrefs\n",
    "try:\n",
    "    courses = driver.find_elements(By.XPATH, \"//ul[@class='DropdownProfessionsList_list__8OXQk']//a\")\n",
    "    course_data = []\n",
    "    \n",
    "    for course in courses:\n",
    "        title = course.get_attribute(\"title\")\n",
    "        href = course.get_attribute(\"href\")\n",
    "        if title and href:\n",
    "            course_data.append({\"title\": title, \"href\": href})\n",
    "    \n",
    "    # Print the extracted data\n",
    "    for item in course_data:\n",
    "        print(item)\n",
    "    \n",
    "except Exception as e:\n",
    "    print(\"Error extracting courses:\", e)"
   ]
  },
  {
   "cell_type": "code",
   "execution_count": null,
   "id": "82b96711-ab52-4157-b852-553f8841c046",
   "metadata": {},
   "outputs": [],
   "source": [
    "# On course's page get description and type\n",
    "import time\n",
    "\n",
    "for course in course_data:\n",
    "    driver.get(course[\"href\"])\n",
    "    print(driver.title) #checking where we are\n",
    "\n",
    "    # Retrieving description\n",
    "    try:\n",
    "        description_block = driver.find_element(By.CSS_SELECTOR, \"div[data-qa='profession-salary-block']\")\n",
    "        description = description_block.find_element(By.TAG_NAME, \"pre\").text\n",
    "    except:\n",
    "        description = \"Description not found\"\n",
    "    course[\"description\"] = description\n",
    "\n",
    "     # Retrieving type\n",
    "    try:\n",
    "        type_blocks = driver.find_elements(By.XPATH, \"//div[contains(text(), 'Будні з 9 до 18') or contains(text(), 'У вільний час')]\")\n",
    "        types = [block.text for block in type_blocks]\n",
    "    except:\n",
    "        types = []\n",
    "    if \"Будні з 9 до 18\" in types and \"У вільний час\" in types:\n",
    "        course[\"type\"] = \"Full-time, Flex\"\n",
    "    elif \"Будні з 9 до 18\" in types:\n",
    "        course[\"type\"] = \"Full-time\"\n",
    "    elif \"У вільний час\" in types:\n",
    "        course[\"type\"] = \"Flex\"\n",
    "    else:\n",
    "        course[\"type\"] = \"Unknown\"\n"
   ]
  },
  {
   "cell_type": "code",
   "execution_count": null,
   "id": "50c64c51-8e6e-4343-a235-a515784c3de3",
   "metadata": {},
   "outputs": [],
   "source": [
    "for course in course_data:\n",
    "    print(course)"
   ]
  },
  {
   "cell_type": "code",
   "execution_count": null,
   "id": "e749b0b9-a661-42c9-841e-cd2441f3f92e",
   "metadata": {},
   "outputs": [],
   "source": [
    "# Save as DataFrame\n",
    "df = pd.DataFrame(course_data)\n",
    "df"
   ]
  },
  {
   "cell_type": "code",
   "execution_count": null,
   "id": "99e4c7bc-f475-499a-97f6-cf8d376132cd",
   "metadata": {},
   "outputs": [],
   "source": [
    "# Split the type column\n",
    "def split_type(row):\n",
    "    types = row['type'].split(', ')\n",
    "    return pd.DataFrame({\n",
    "        'title': [row['title']] * len(types),\n",
    "        'href': [row['href']] * len(types),\n",
    "        'description': [row['description']] * len(types),\n",
    "        'type': types\n",
    "    })"
   ]
  },
  {
   "cell_type": "code",
   "execution_count": null,
   "id": "973c4e05-24bc-4944-a8f2-6369f2fa8761",
   "metadata": {},
   "outputs": [],
   "source": [
    "df_expanded = pd.concat(df.apply(split_type, axis=1).tolist(), ignore_index=True)\n",
    "df_expanded"
   ]
  },
  {
   "cell_type": "code",
   "execution_count": null,
   "id": "fe59de11-b431-4410-8af9-592de127b3cd",
   "metadata": {},
   "outputs": [],
   "source": [
    "# Drop href\n",
    "df_expanded = df_expanded.drop('href', axis = 1)"
   ]
  },
  {
   "cell_type": "code",
   "execution_count": null,
   "id": "5f6c9744-f866-41ee-8285-fbbea3802624",
   "metadata": {},
   "outputs": [],
   "source": [
    "df_expanded"
   ]
  },
  {
   "cell_type": "code",
   "execution_count": null,
   "id": "77d1dde3-34d0-4c9b-aa1c-4832ef8b9933",
   "metadata": {},
   "outputs": [],
   "source": [
    "df_expanded.to_csv('WebScrappingMate.csv', index=False)"
   ]
  }
 ],
 "metadata": {
  "kernelspec": {
   "display_name": "Python 3 (ipykernel)",
   "language": "python",
   "name": "python3"
  },
  "language_info": {
   "codemirror_mode": {
    "name": "ipython",
    "version": 3
   },
   "file_extension": ".py",
   "mimetype": "text/x-python",
   "name": "python",
   "nbconvert_exporter": "python",
   "pygments_lexer": "ipython3",
   "version": "3.11.10"
  }
 },
 "nbformat": 4,
 "nbformat_minor": 5
}
